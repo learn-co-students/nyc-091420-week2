{
 "cells": [
  {
   "cell_type": "markdown",
   "metadata": {
    "ExecuteTime": {
     "end_time": "2020-09-21T16:35:44.618739Z",
     "start_time": "2020-09-21T16:35:44.613390Z"
    }
   },
   "source": [
    "# APIS 🧰\n",
    "\n",
    "\n",
    "[The Public Holidays API](https://date.nager.at/swagger/index.html) provides public holiday information for approximately 90 countries.\n",
    "\n",
    "\n",
    "## Your Tasks:\n",
    "Please create a function called `holiday_api` that returns the US public holidays for a given year. \n",
    "- This function should have one argument: `year`\n",
    "\n",
    "Once you have collected this data:\n",
    "1. Import the `stocks` function we built yesterday and merge the holidays data with stocks data for the matching year.\n",
    "2. Create a column called `'change'` that is the difference between the closing and opening stock prices.\n",
    "3. Create a subplot containing two plots\n",
    "    1. The top ten stock increases on inauguration day\n",
    "    2. The top ten stock decreases on inauguration day\n",
    "    \n",
    "4. Move your `holiday_api` function into the data_collection.py file.\n",
    "\n",
    "Please complete the assigned tasks below:"
   ]
  }
 ],
 "metadata": {
  "kernelspec": {
   "display_name": "Python 3",
   "language": "python",
   "name": "python3"
  },
  "language_info": {
   "codemirror_mode": {
    "name": "ipython",
    "version": 3
   },
   "file_extension": ".py",
   "mimetype": "text/x-python",
   "name": "python",
   "nbconvert_exporter": "python",
   "pygments_lexer": "ipython3",
   "version": "3.7.7"
  },
  "toc": {
   "base_numbering": 1,
   "nav_menu": {},
   "number_sections": false,
   "sideBar": true,
   "skip_h1_title": true,
   "title_cell": "Table of Contents",
   "title_sidebar": "Contents",
   "toc_cell": false,
   "toc_position": {},
   "toc_section_display": true,
   "toc_window_display": false
  },
  "varInspector": {
   "cols": {
    "lenName": 16,
    "lenType": 16,
    "lenVar": 40
   },
   "kernels_config": {
    "python": {
     "delete_cmd_postfix": "",
     "delete_cmd_prefix": "del ",
     "library": "var_list.py",
     "varRefreshCmd": "print(var_dic_list())"
    },
    "r": {
     "delete_cmd_postfix": ") ",
     "delete_cmd_prefix": "rm(",
     "library": "var_list.r",
     "varRefreshCmd": "cat(var_dic_list()) "
    }
   },
   "types_to_exclude": [
    "module",
    "function",
    "builtin_function_or_method",
    "instance",
    "_Feature"
   ],
   "window_display": false
  }
 },
 "nbformat": 4,
 "nbformat_minor": 4
}
